{
 "cells": [
  {
   "cell_type": "markdown",
   "metadata": {},
   "source": [
    "## NLP Data Analysis"
   ]
  },
  {
   "cell_type": "code",
   "execution_count": 311,
   "metadata": {},
   "outputs": [],
   "source": [
    "import re\n",
    "import pandas as pd\n",
    "from collections import Counter\n",
    "from nltk.stem.porter import PorterStemmer"
   ]
  },
  {
   "cell_type": "code",
   "execution_count": 286,
   "metadata": {},
   "outputs": [],
   "source": [
    "def sentence_splitter(paragraph):\n",
    "    sentences = re.split('(?<=\\.|\\!|\\?)\\\"? ', paragraph)\n",
    "    new_sentences = []\n",
    "    for i,sentence in enumerate(sentences):\n",
    "        if i == 0:\n",
    "            new_sentences.append(sentence)\n",
    "        elif sentence and sentence[0].islower():\n",
    "            last = new_sentences.pop()\n",
    "            new_sentences.append(last + sentence)\n",
    "        elif i < len(sentences) - 1 and sentence and sentence[-1] == '.' and len(sentence.split(' ')[-1][0]) < 4 and sentence.split(' ')[-1][0].isupper():\n",
    "            sentences[i+1] = sentence + sentences[i+1]\n",
    "        elif sentence:\n",
    "            new_sentences.append(sentence)\n",
    "    return new_sentences"
   ]
  },
  {
   "cell_type": "code",
   "execution_count": 287,
   "metadata": {},
   "outputs": [],
   "source": [
    "def tokenize(sentence):\n",
    "    words = sentence.split(' ')\n",
    "    tokens = []\n",
    "    word_tokens = []\n",
    "    for word in words:\n",
    "        while word and word[-1] in \",:;'().?!\":\n",
    "            word = word.split(word[-1])[0]\n",
    "        tokens.append(word)\n",
    "    for token in tokens:\n",
    "        if re.match('^[a-zA-Z0-9]+$', token):\n",
    "            word_tokens.append(token)\n",
    "    return word_tokens"
   ]
  },
  {
   "cell_type": "code",
   "execution_count": 356,
   "metadata": {},
   "outputs": [
    {
     "name": "stdout",
     "output_type": "stream",
     "text": [
      "normal:\n",
      "total paragraphs: 18087\n",
      "average paragraphs per article: 36.174\n",
      "total sentences: 60031\n",
      "average sentences per article: 120.062\n",
      "total words: 1369461\n",
      "average words per article: 2738.922\n",
      "average words per sentence: 22.81256350885376\n",
      "unique words: 66776\n",
      "unique nocase words: 58283\n",
      "[('the', 94338), ('of', 57221), ('and', 43697), ('in', 33617), ('to', 32292), ('a', 27603), ('is', 16796), ('as', 13239), ('was', 12806), ('The', 12301)]\n",
      "average word length: 4.998769588911258\n",
      "num words per period: 19.08204327894436\n",
      "num words per comma: 14.920801464339412\n",
      "num words per question mark: 6490.336492890995\n",
      "num words per exclamation point: 8950.725490196079\n",
      "num words per semicolon: 402.5458553791887\n",
      "num words per colon: 546.0370813397129\n",
      "unique stemmed tokens: 41727 \n",
      "\n",
      "simple:\n",
      "total paragraphs: 2189\n",
      "average paragraphs per article: 4.378\n",
      "total sentences: 6991\n",
      "average sentences per article: 13.982\n",
      "total words: 113287\n",
      "average words per article: 226.574\n",
      "average words per sentence: 16.204691746531253\n",
      "unique words: 13341\n",
      "unique nocase words: 11993\n",
      "[('the', 7069), ('of', 3929), ('and', 3164), ('in', 2710), ('a', 2624), ('to', 2521), ('is', 2449), ('was', 1306), ('The', 1181), ('that', 1173)]\n",
      "average word length: 4.612488635059627\n",
      "num words per period: 14.102701356902775\n",
      "num words per comma: 17.490659255828316\n",
      "num words per question mark: 4720.291666666667\n",
      "num words per exclamation point: 3906.448275862069\n",
      "num words per semicolon: 826.9124087591241\n",
      "num words per colon: 640.0395480225989\n",
      "unique stemmed tokens: 8874 \n",
      "\n"
     ]
    }
   ],
   "source": [
    "filenames = ['normal', 'simple']\n",
    "for filename in filenames:\n",
    "    print(filename + \":\")\n",
    "    with open('assignment1_resources/' + filename + '.txt', 'r') as f:\n",
    "        text = f.read() \n",
    "        periods = text.count(\".\")\n",
    "        commas = text.count(\",\")\n",
    "        question_marks = text.count(\"?\")\n",
    "        ex_points = text.count(\"!\")\n",
    "        colons = text.count(\":\")\n",
    "        semicolons = text.count(\";\")\n",
    "\n",
    "    articles = [x.split('</TITLE>\\n')[1] for x in text.split('<TITLE>')[1:]]\n",
    "    paragraphs = []\n",
    "    sentences = []\n",
    "    words = []\n",
    "    for article in articles:\n",
    "        pars = article.split('\\n\\n')[:-1]\n",
    "        paragraphs = paragraphs + pars\n",
    "        for p in pars:\n",
    "            sentences.append(sentence_splitter(p))\n",
    "    num_sentences = 0\n",
    "    for s in sentences:\n",
    "        num_sentences += len(s)\n",
    "        for sent in s:\n",
    "            words.append(tokenize(sent))\n",
    "    num_words = 0\n",
    "    for w in words:\n",
    "        num_words += len(w)\n",
    "    all_words = Counter([j for i in words for j in i])\n",
    "    unique_words = set([j for i in words for j in i])\n",
    "    unique_nocase_words = set([j.lower() for i in words for j in i])\n",
    "    word_lengths = [len(j) for i in words for j in i]\n",
    "    all_tokens = [j for i in words for j in i]\n",
    "    p_stemmer = PorterStemmer()\n",
    "    stemmed_tokens = [p_stemmer.stem(i.lower()) for i in all_tokens]\n",
    "    print('total paragraphs:', len(paragraphs))\n",
    "    print('average paragraphs per article:', len(paragraphs)/len(articles))\n",
    "    print('total sentences:', num_sentences)\n",
    "    print('average sentences per article:', num_sentences/len(articles))\n",
    "    print('total words:', num_words)\n",
    "    print('average words per article:', num_words/len(articles))\n",
    "    print('average words per sentence:', num_words/num_sentences)\n",
    "    print('unique words:', len(unique_words))\n",
    "    print('unique nocase words:', len(unique_nocase_words))\n",
    "    print(all_words.most_common(10))\n",
    "    print('average word length:', sum(word_lengths)/len(word_lengths))\n",
    "    print('num words per period:', num_words/periods)\n",
    "    print('num words per comma:', num_words/commas)\n",
    "    print('num words per question mark:', num_words/question_marks)\n",
    "    print('num words per exclamation point:', num_words/ex_points)\n",
    "    print('num words per semicolon:', num_words/semicolons)\n",
    "    print('num words per colon:', num_words/colons)\n",
    "    print('unique stemmed tokens:', len(set(stemmed_tokens)), '\\n')"
   ]
  },
  {
   "cell_type": "code",
   "execution_count": 357,
   "metadata": {},
   "outputs": [
    {
     "data": {
      "text/plain": [
       "['Anarchism is the anti-authoritarian political belief that people can organize themselves without having a state or a government in power. Anarchists also believe that participation should never be forced by other people.\\n\\nAnarchism is \"a cluster of doctrines and attitudes centered on the belief that government is both harmful and unnecessary.\" The term \"anarchism\" derives from the Greek αναρχία . \\n\\nIn the common language, the word anarchy is often used to describe chaos or anomie. However, anarchists do not promote this. Rather, they define \"anarchy\" as a way of relations between people. Once put into place these relations work on their own.\\n\\n Individual freedom, voluntary association and opposition to the state, are important beliefs of anarchism. There are also big differences between anarchist philosophies on things like whether violence can be used to bring anarchy; the best type of economy; the relationship between technology and hierarchy; the idea of equality; and the usefulness of some organization. \\n\\nThere are many anarchists who reject capitalism and support socialism , they are called anarcho-socialists and individual socialists. Also, there are some anarchists called anarcho-capitalists who oppose governments, but support capitalism and reject socialism. Finally, there are \"anarchists without borders\" who hold that because people will be free in an anarchy to pursue voluntarily any economic structures they want , the debate between anarcho-socialists and anarcho-capitalists is ultimately a silly diversion.\\n\\n',\n",
       " 'Autism is an emotional disorder characterized by a profound withdrawal from contact with people, repetitive behavior, and fear of change in the environment. The emotional disorder is impacting the brain\\'s ability to receive and process information. People who have autism find it difficult to act in a way that other people think is \"normal\". They find it difficult to talk to other people, to look at other people and often do not like being touched by other people. A person who has autism seems to be turned inwards. They may talk only to themselves, rock themselves backwards and forwards, and laugh at their own thoughts. They do not like any type of change and may find it very difficult to learn a new behavior like using a toilet or going to school. \\n\\nAutism is caused by the way that the brain develops, both before and after a baby is born. Autism is a \"spectrum disorder\". This means that some people who have autism are only mildly affected. These people may go to regular schools, go to work, and have partners and families. Mild autism is called Asperger Syndrome or \"High functioning Autism\". Some people are more badly affected. These people may be able to take care of most of their own needs at home like dressing and getting food, but not be able to have a regular job or travel alone. A person who has severe autism may need to be cared for all their life. \\n\\nAutism seems to run in families. Parents with an Autistic Spectrum Disorder often have children with Asperger Syndrome or with more severe Autism. Sometimes people who have autism are extraordinarily gifted or talented. These people are said to have savant syndrome. They are often very good at just one thing in particular, like mathematics, playing the piano or remembering football scores. \\n\\nThe prevalence of Autism is about 1-2 people of every 1,000.\\n\\nA normal baby without autism will usually look at people talking, look at other people\\'s faces, smile, and be interested in other people. Autistic babies, though, may like objects more than faces and other people. They may look for a second at a face, but quickly turn. They may not smile, or may just smile at what they\\'re interested in.\\n\\nAutistic children may usually like to be by themselves, without other people around. They may not be interested in making friends. They may also not react normally to hugging and other signs of love by their parents. This does not mean that they do not love their parents, they just do not know how to say it.\\n\\nThey may also not see other people\\'s feelings; for example, they might not see much difference between whether a parent is smiling or being sad. They may laugh and cry at the wrong times.\\n\\n An autistic child might not try to talk, point, or otherwise try to get a message across by 1 year of age. Some don\\'t understand their language at all. Some autistic people do not speak. Many are not good at talking with other people.\\n\\n Some autistic people spend a lot of time doing the same thing over and over again, or be interested in unusual things; some might spend a lot of time waving their arms around, walking on their toes, or putting things in order. An autistic person might spend a huge amount of time putting toys in lines or patterns and may get angry if someone bumps something out of place.\\n\\nSome do not want any change, and will do exactly the same things every day without change—such as what they eat, when they eat, getting dressed, brushing their teeth, or going to school—and may even get upset if any change takes place to this. They may also be interested in strange things and may spend all of their time learning about their interest.\\n\\n Autism was first named in 1943. Leo Kanner did a study of 11 children and found unusual things about them. He called it early infantile autism. Around the same time, another doctor, Hans Asperger, did another study on nearly the same thing. His discovery is now called Asperger syndrome, while Leo Kanner\\'s discovery is called autistic disorder, childhood autism, infantile autism, or simply autism.\\n\\n',\n",
       " 'The albedo of an object is the extent to which it reflects light, defined as the ratio of reflected to incident electromagnetic radiation. It is a unitless measure indicative of a surface\\'s or body\\'s diffuse reflectivity. The word is derived from albus, a Latin word for \"white\".\\n\\n',\n",
       " 'A is the first letter of the English alphabet. A is a usual symbol for a low central vowel, as in \"father\"; the English long a is pronounced as a diphthong of ĕ and y. The corresponding letter of the Greek alphabet is named alpha. Alpha and omega, the last letter of the Greek alphabet, symbolize the beginning and the end. In musical notation the letter A is the symbol of a note in the scale, below B and above G.\\n\\n',\n",
       " 'Alabama is a state in the United States. Its capital city is Montgomery. The largest city is Birmingham. It became a state in 1819.\\n\\nAlabama is the thirtieth largest state in the United States with 52,423 square miles of total area. Also 3.19% of the area is water, making Alabama twenty-third in the amount of surface water, also giving it the second largest inland waterway system in the United States. About three-fifths of the land area is a plain with a general downward towards the Mississippi River and the Gulf of Mexico. The North Alabama place has mostly mountains, with the Tennessee River cutting a large valley creating many creeks, streams, rivers, mountains, and lakes.\\n\\nThe states bordering Alabama are Tennessee to the north; Georgia to the east; Florida to the south; and Mississippi to the west. Alabama has coastline at the Gulf of Mexico, in the very southern edge of the state. Alabama ranges in elevation from sea level at \"Mobile Bay\" to over 1,800 feet in the Appalachian Mountains in the northeast. The highest point is \"Mount Cheaha\", at a height of 2,407 ft . Alabama\\'s land has 22 million acres of forest or 67% of total land area. \"Suburban Baldwin County\", along the Gulf Coast, is the largest county in the state in both land area and water area.\\n\\n The state is classified as subtropical Cfa under the Koppen Climate Classification. The normal annual temperature is 64 °F . Temperatures are most of the time to be warmer in the southern part of the state with its close proximity to the Gulf of Mexico, while the northern parts of the state, mostly in the Appalachian Mountains in the northeast, tend to be slightly cooler. Most of the time, Alabama has very hot summers and mild winters with copious rain throughout the year. Alabama receives an average of 56 inches of rainfall annually and enjoys a lengthy growing season of up to 300 days in the southern part of the state.\\n\\nSummers in Alabama are among the hottest in the United States, with high temperatures averaging over 90 °F throughout the summer in some parts of the state. Alabama also gets many to tropical storms and even hurricanes. Areas of the state far away from the Gulf are not immune to the effects of the storms, which often dump big amounts of rain as they move inland and weaken.\\n\\nThe United States Census Bureau, as of July 1, 2008, estimated Alabama\\'s population at 4,661,900, which is an increase of 214,545, or 4.8%, since the last census in 2000. This has a natural increase since the last census of 121,054 people and an increase because of net migration of 104,991 people into the state. Immigration from outside the United States resulted in a net increase of 31,180 people, and migration within the country got a net gain of 73,811 people. The state had 108,000 foreign-born , of which an estimated 22.2% were illegal immigrants .\\n\\n The United States Bureau of Economic Analysis, the 2008 total gross state product was $170 billion, or $29,411 per capita. Alabama\\'s 2008 GDP increased 0.7% from the past year. The single largest increase came in the area of information. In 1999, per capita income for the state was $18,189.\\n\\nAlabama\\'s agricultural outputs are poultry and eggs, cattle, plant nursery items, peanuts, cotton, grains such as corn and sorghum, vegetables, milk, soybeans, and peaches. Although known as \"The Cotton State\", Alabama is between eight and ten in national cotton making, according to many reports, with Texas, Georgia and Mississippi making up the top three.\\n\\nAlabama\\'s company outputs are iron and steel products ; paper, lumber, and wood things; mining ; plastic things; cars and trucks; and apparel. Alabama also makes aerospace and electronic things, mostly in the \"Huntsville\" area, location of NASA George C. Marshall Space Flight Center and the US Army Aviation and Missile Command, headquartered at \"Redstone Arsenal.\"\\n\\n \"Public primary and secondary education\" in Alabama is under the review of the Alabama State Board of Education as well as local oversight by 67 county school boards and 60 city boards of education. Together, 1,541 separate schools have education for 743,364 elementary and secondary students.\\n\\n Alabama\\'s programs of higher education are 14 four-year public universities, two-year community colleges, and 17 private, undergraduate and graduate universities. In the state are two medical schools, University of Alabama at Birmingham and University of South Alabama, two veterinary colleges, Auburn University and Tuskegee University, a dental school, University of Alabama at Birmingham, an optometry college, University of Alabama at Birmingham, two pharmacy schools, Auburn University and Samford University, and five law schools, University of Alabama School of Law, Birmingham School of Law, Cumberland School of Law, Miles Law School, and the Thomas Goode Jones School of Law. Public, post-secondary education in Alabama is overseen by the Alabama Commission on Higher Education. Colleges and universities in Alabama offer degree programs from two-year associate degrees to 16 doctor level programs.\\n\\n The governor of Alabama is Bob Riley, a Republican. The lieutenant governor of Alabama is Jim Folsom Jr., a Democrat, and the Chief Justice of the Alabama Supreme Court is Sue Bell Cobb, a Democrat.\\n\\n']"
      ]
     },
     "execution_count": 357,
     "metadata": {},
     "output_type": "execute_result"
    }
   ],
   "source": [
    "articles[:5]"
   ]
  },
  {
   "cell_type": "code",
   "execution_count": 364,
   "metadata": {},
   "outputs": [
    {
     "data": {
      "text/plain": [
       "['Anarchism is the anti-authoritarian political belief that people can organize themselves without having a state or a government in power. Anarchists also believe that participation should never be forced by other people.',\n",
       " 'Anarchism is \"a cluster of doctrines and attitudes centered on the belief that government is both harmful and unnecessary.\" The term \"anarchism\" derives from the Greek αναρχία . ',\n",
       " 'In the common language, the word anarchy is often used to describe chaos or anomie. However, anarchists do not promote this. Rather, they define \"anarchy\" as a way of relations between people. Once put into place these relations work on their own.']"
      ]
     },
     "execution_count": 364,
     "metadata": {},
     "output_type": "execute_result"
    }
   ],
   "source": [
    "paragraphs[:3]"
   ]
  },
  {
   "cell_type": "code",
   "execution_count": 365,
   "metadata": {},
   "outputs": [
    {
     "data": {
      "text/plain": [
       "['Anarchism is the anti-authoritarian political belief that people can organize themselves without having a state or a government in power. Anarchists also believe that participation should never be forced by other people.\\n\\nAnarchism is \"a cluster of doctrines and attitudes centered on the belief that government is both harmful and unnecessary.\" The term \"anarchism\" derives from the Greek αναρχία . \\n\\nIn the common language, the word anarchy is often used to describe chaos or anomie. However, anarchists do not promote this. Rather, they define \"anarchy\" as a way of relations between people. Once put into place these relations work on their own.\\n\\n Individual freedom, voluntary association and opposition to the state, are important beliefs of anarchism. There are also big differences between anarchist philosophies on things like whether violence can be used to bring anarchy; the best type of economy; the relationship between technology and hierarchy; the idea of equality; and the usefulness of some organization. \\n\\nThere are many anarchists who reject capitalism and support socialism , they are called anarcho-socialists and individual socialists. Also, there are some anarchists called anarcho-capitalists who oppose governments, but support capitalism and reject socialism. Finally, there are \"anarchists without borders\" who hold that because people will be free in an anarchy to pursue voluntarily any economic structures they want , the debate between anarcho-socialists and anarcho-capitalists is ultimately a silly diversion.\\n\\n']"
      ]
     },
     "execution_count": 365,
     "metadata": {},
     "output_type": "execute_result"
    }
   ],
   "source": [
    "articles[:1]"
   ]
  },
  {
   "cell_type": "code",
   "execution_count": 366,
   "metadata": {},
   "outputs": [
    {
     "data": {
      "text/plain": [
       "'<TITLE>Anarchism</TITLE>\\nAnarchism is the anti-authoritarian political belief that people can organi'"
      ]
     },
     "execution_count": 366,
     "metadata": {},
     "output_type": "execute_result"
    }
   ],
   "source": [
    "text[:100]"
   ]
  },
  {
   "cell_type": "code",
   "execution_count": null,
   "metadata": {},
   "outputs": [],
   "source": []
  }
 ],
 "metadata": {
  "kernelspec": {
   "display_name": "Python 3",
   "language": "python",
   "name": "python3"
  },
  "language_info": {
   "codemirror_mode": {
    "name": "ipython",
    "version": 3
   },
   "file_extension": ".py",
   "mimetype": "text/x-python",
   "name": "python",
   "nbconvert_exporter": "python",
   "pygments_lexer": "ipython3",
   "version": "3.6.5"
  }
 },
 "nbformat": 4,
 "nbformat_minor": 2
}
